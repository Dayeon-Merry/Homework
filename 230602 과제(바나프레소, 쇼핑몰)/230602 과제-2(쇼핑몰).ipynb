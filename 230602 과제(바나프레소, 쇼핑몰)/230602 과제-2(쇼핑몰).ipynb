{
 "cells": [
  {
   "cell_type": "markdown",
   "id": "9420d0d7",
   "metadata": {},
   "source": [
    "### 과제2.\n",
    "쇼핑몰을 하나 선정하여 카테고리를 정해 크롤링하고 해당 카테고리 사진을 폴더로 정리하기\n",
    "카테고리를 정해서 (3가지) 각각 저장하고 폴더로 나눠서 저장\n",
    "저장하고나서 mysql에 테이블을 만들고 카테고리와 파일경로를 저장"
   ]
  },
  {
   "cell_type": "code",
   "execution_count": 63,
   "id": "313c9e46",
   "metadata": {},
   "outputs": [],
   "source": [
    "import chromedriver_autoinstaller\n",
    "import time\n",
    "from selenium import webdriver\n",
    "from selenium.webdriver.common.by import By\n",
    "from urllib.request import Request, urlopen\n",
    "import requests\n",
    "from bs4 import BeautifulSoup\n",
    "import pandas as pd\n",
    "from selenium.common.exceptions import NoSuchElementException\n",
    "import MySQLdb\n",
    "import os"
   ]
  },
  {
   "cell_type": "code",
   "execution_count": 1,
   "id": "72c4dce5",
   "metadata": {},
   "outputs": [],
   "source": [
    "# url='https://akkishopping.com/index.html' "
   ]
  },
  {
   "cell_type": "code",
   "execution_count": 57,
   "id": "dc51d0ae",
   "metadata": {},
   "outputs": [],
   "source": [
    "# 카테고리, 이미지 url을 저장하는 리스트를 변수로 넣어서 db에 저장하는 함수\n",
    "def save_db(url_list):\n",
    "    db = MySQLdb.connect(host=\"localhost\", user=\"root\", password='1234', db='kdt')\n",
    "    cur = db.cursor()\n",
    "    sql = \"insert into url_list(category, image_url) values (%s, %s)\"\n",
    "    cur.executemany(sql, url_list)\n",
    "    db.commit()\n",
    "    cur.close()\n",
    "    db.close()"
   ]
  },
  {
   "cell_type": "code",
   "execution_count": 84,
   "id": "617a8274",
   "metadata": {},
   "outputs": [],
   "source": [
    "# 카테고리 번호 입력 시 해당 카테고리의 페이지로 접속하여 페이지별로 이미지 url을 파일 및 리스트로 저장\n",
    "def search(cate_no):\n",
    "    driver = webdriver.Chrome()\n",
    "    driver.implicitly_wait(3)\n",
    "    # 카테고리 번호 입력 시 해당되는 카테고리명을 사용하기 위한 딕셔너리\n",
    "    cate_name = {136:\"건반악기\", 137:\"교회 오르간\", 139:\"현악기\", 138: \"관악기\", 141: \"타악기\", 143:\"교육용악기\"}\n",
    "    # 카테고리 번호 입력 시 해당되는 카테고리명의 폴더가 없으면 새로 생성.\n",
    "    if not os.path.exists(cate_name[cate_no]):\n",
    "        os.mkdir(cate_name[cate_no])\n",
    "    # 입력받은 카테고리 번호에 해당되는 사이트로 이동 \n",
    "    url=f'https://akkishopping.com/product/list.html?cate_no={cate_no}' \n",
    "    driver.get(url)\n",
    "    time.sleep(3)\n",
    "    image_urls=[]\n",
    "    while True:\n",
    "        # 현재 페이지의 url을 가져옴\n",
    "        cu_url = driver.current_url\n",
    "        # url 맨 끝에 none이 있으면 while문을 끝냄(마지막 페이지에서 다음버튼을 누를경우 url 끝에 none이 붙는다.)\n",
    "        if cu_url[-4:] == 'none':\n",
    "            save_db(image_urls)\n",
    "            break\n",
    "        # 페이지에 있는 모든 악기 이미지를 가진 div를 저장 \n",
    "        imgs = driver.find_elements(By.CLASS_NAME, \"prdImg\")\n",
    "        #print(f'imgs: {len(imgs)}')\n",
    "        # imgs에서 요소 하나씩 꺼내어 img태그를 가져오고, 해당 img태그에서 url 부분만 리스트에 저장 \n",
    "        for img in imgs:\n",
    "            image_tag = img.find_element(By.TAG_NAME, 'img')\n",
    "            image_url = image_tag.get_attribute('src')\n",
    "            image_urls.append((cate_name[cate_no] ,image_url))\n",
    "        # 저장한 이미지 url로 접속하여 카테고리 폴더안에 파일로 저장\n",
    "        filename = 0\n",
    "        for i in range(len(image_urls)):\n",
    "            image_url = image_urls[i]\n",
    "            image_byte = Request(image_url[1], headers={'User-Agent':'Mozilla/5.0 (Windows NT 10.0; Win64; x64)'})\n",
    "            f = open(f'{image_url[0]}/{image_url[0]}{filename}.jpg','wb')\n",
    "            f.write(urlopen(image_byte).read())\n",
    "            f.close()\n",
    "            filename += 1\n",
    "        # 다음 페이지로 이동할 수 있는 버튼을 누름\n",
    "        btn_xpath = '/html/body/div[1]/div[5]/div[2]/div[3]/a[3]/img'\n",
    "        driver.find_element(By.XPATH, btn_xpath).click()\n",
    "        time.sleep(7)\n",
    "    print(image_urls)"
   ]
  },
  {
   "cell_type": "code",
   "execution_count": 77,
   "id": "c5d3481c",
   "metadata": {},
   "outputs": [
    {
     "name": "stdout",
     "output_type": "stream",
     "text": [
      "imgs: 60\n",
      "imgs: 2\n",
      "[('현악기', 'https://akkishopping.com/web/product/medium/202111/aa734560f7bf76f23f9ee05b3b58d36f.jpg'), ('현악기', 'https://akkishopping.com/web/product/medium/202303/750aa154e899ac25b9785da05ab4185d.jpg'), ('현악기', 'https://akkishopping.com/web/product/medium/202206/de1426c560fcb5718cebc2c6d913408d.jpg'), ('현악기', 'https://akkishopping.com/web/product/medium/202112/8f047602c847bb184fe228f99e99371e.jpg'), ('현악기', 'https://akkishopping.com/web/product/medium/202011/f08318042959d6a1144a235a7b9e5fce.jpg'), ('현악기', 'https://akkishopping.com/web/product/medium/202011/f7c6c3cc4e49f556de2252aa4ddfc071.jpg'), ('현악기', 'https://akkishopping.com/web/product/medium/202011/d78489f486982caf544aed20e0d7d474.jpg'), ('현악기', 'https://akkishopping.com/web/product/medium/202108/81422f22f070c13721760cd5ece59613.jpg'), ('현악기', 'https://akkishopping.com/web/product/medium/202011/fbc9cda7f0d99aa5ff6b91aae026198e.jpg'), ('현악기', 'https://akkishopping.com/web/product/medium/202011/cfca678021862a2803382e4586c5c4a8.jpg'), ('현악기', 'https://akkishopping.com/web/product/medium/202209/1bf6507b73fc7fa8f434c9538e4677fb.jpg'), ('현악기', 'https://akkishopping.com/web/product/medium/20191209/2ee9e705eb8a596c140d9306e30f57b7.jpg'), ('현악기', 'https://akkishopping.com/web/product/medium/202211/0dc11f945458e0cb4c9ca8212de99b64.jpg'), ('현악기', 'https://akkishopping.com/web/product/medium/202211/10c7897e590545a6717dcdc6afa45028.jpg'), ('현악기', 'https://akkishopping.com/web/product/medium/202211/ff183e8e9441062ed317a46a0c30d032.jpg'), ('현악기', 'https://akkishopping.com/web/product/medium/202211/c628edb2a90031abf781a879be973590.jpg'), ('현악기', 'https://akkishopping.com/web/product/medium/202106/72c1860c02c4de16011f99a8286ac509.jpg'), ('현악기', 'https://akkishopping.com/web/product/medium/202106/595b1137c24e9294e2e9dd456adf3c46.jpg'), ('현악기', 'https://akkishopping.com/web/product/medium/202106/8fde95599428f7c79a8decf33915a078.jpg'), ('현악기', 'https://akkishopping.com/web/product/medium/202106/7fe920b42e4076276302cc88a41de954.jpg'), ('현악기', 'https://akkishopping.com/web/product/medium/202106/3cc3a8ee6ccd36c7e4ac886f36efda50.jpg'), ('현악기', 'https://akkishopping.com/web/product/medium/202106/be106900cea553c481753b414067f69d.jpg'), ('현악기', 'https://akkishopping.com/web/product/medium/202011/fa8af26645a03f47dd021feb643629cb.jpg'), ('현악기', 'https://akkishopping.com/web/product/medium/202011/5c63fe22772d67a351f2f80f6871c2aa.jpg'), ('현악기', 'https://akkishopping.com/web/product/medium/202011/1d8ca380e45d3ac49136eb824d567d17.jpg'), ('현악기', 'https://akkishopping.com/web/product/medium/202011/3ded5e98ea21cfd85f4b502b045eac2a.jpg'), ('현악기', 'https://akkishopping.com/web/product/medium/202011/4879dabfe347308de2e716b848838cf0.jpg'), ('현악기', 'https://akkishopping.com/web/product/medium/202011/506ac5fa3397a1876566ef4323ea937d.jpg'), ('현악기', 'https://akkishopping.com/web/product/medium/202011/88e7bc5f2381724f42c7df81c406c829.jpg'), ('현악기', 'https://akkishopping.com/web/product/medium/202011/b755952951d8925489127809fdcf4f65.jpg'), ('현악기', 'https://akkishopping.com/web/product/medium/202011/a8cdd77f8057541c012d6a94a7d9c559.jpg'), ('현악기', 'https://akkishopping.com/web/product/medium/20191212/09c9e12ceeea6161b77221ea0875be00.jpg'), ('현악기', 'https://akkishopping.com/web/product/medium/20191209/04d599df50cc4609d01a4091e57c7136.jpg'), ('현악기', 'https://akkishopping.com/web/product/medium/202212/003c565617644bbf914a629b528c3879.jpg'), ('현악기', 'https://akkishopping.com/web/product/medium/202212/5e552ac20a210852b4927248e5dcffa9.jpg'), ('현악기', 'https://akkishopping.com/web/product/medium/202212/ac7199fc38ca12b9605b876f79361cc1.jpg'), ('현악기', 'https://akkishopping.com/web/product/medium/akki4321_3701.jpg'), ('현악기', 'https://akkishopping.com/web/product/medium/akki4321_3700.jpg'), ('현악기', 'https://akkishopping.com/web/product/medium/akki4321_3699.jpg'), ('현악기', 'https://akkishopping.com/web/product/medium/akki4321_3698.jpg'), ('현악기', 'https://akkishopping.com/web/product/medium/akki4321_3428.jpg'), ('현악기', 'https://akkishopping.com/web/product/medium/20191209/c5d3fbe03e4a0ba58c988882d4678d0a.jpg'), ('현악기', 'https://akkishopping.com/web/product/medium/202212/99f204c11f476f131b4dba8b9db8ba2f.jpg'), ('현악기', 'https://akkishopping.com/web/product/medium/202105/db698d89ceb1a49f7a7913b90e49a742.jpg'), ('현악기', 'https://akkishopping.com/web/product/medium/202105/cd9d995a8acf759296db85f312d9d5b0.jpg'), ('현악기', 'https://akkishopping.com/web/product/medium/202104/4bb28e81e389acbc82843499cda973f7.jpg'), ('현악기', 'https://akkishopping.com/web/product/medium/202212/08d7b683cc9354768d2713d36068a0f9.jpg'), ('현악기', 'https://akkishopping.com/web/product/medium/202011/e0b614f0caf0711c8b7c87824534aa29.jpg'), ('현악기', 'https://akkishopping.com/web/product/medium/202011/6b60bab2894dccb29701a38b1daa2cb6.jpg'), ('현악기', 'https://akkishopping.com/web/product/medium/202011/c733e8dc1e96c908f99394829c78b7de.jpg'), ('현악기', 'https://akkishopping.com/web/product/medium/202105/3333d8a03c5dc81dac64f43f3276d440.jpg'), ('현악기', 'https://akkishopping.com/web/product/medium/202105/a0e5c7431f9e674a32167de2e28cd8ad.jpg'), ('현악기', 'https://akkishopping.com/web/product/medium/202104/ae5f24d7cce0d8879829982ff5e4ae34.jpg'), ('현악기', 'https://akkishopping.com/web/product/medium/202212/7ea61cac19b4ef9d82689db42de8e8bf.jpg'), ('현악기', 'https://akkishopping.com/web/product/medium/202011/9ba3eb6ec4c1d8bc2ba438cb56a59808.jpg'), ('현악기', 'https://akkishopping.com/web/product/medium/202009/843cfbcef7873d5ef70d167962e95d9c.jpg'), ('현악기', 'https://akkishopping.com/web/product/medium/202106/aec6ba86d37b394658c710fc09137bb4.jpg'), ('현악기', 'https://akkishopping.com/web/product/medium/202011/21b593509c3034ab89973f83908d4833.jpg'), ('현악기', 'https://akkishopping.com/web/product/medium/202011/fbe877d9d8b4bd827d1b5271c0e99f62.jpg'), ('현악기', 'https://akkishopping.com/web/product/medium/202009/3d59f7ff390728b45dd911bbe600ab2f.jpg'), ('현악기', 'https://akkishopping.com/web/product/medium/20191209/0d5e73119da3a1256b407bf7f7c3a70e.jpg'), ('현악기', 'https://akkishopping.com/web/product/medium/20191209/8e7f1f135dac330134412545d6a476ab.jpg')]\n"
     ]
    }
   ],
   "source": [
    "search(139)"
   ]
  },
  {
   "cell_type": "code",
   "execution_count": 82,
   "id": "bb929f96",
   "metadata": {},
   "outputs": [
    {
     "name": "stdout",
     "output_type": "stream",
     "text": [
      "imgs: 51\n",
      "[('타악기', 'https://akkishopping.com/web/product/medium/202205/67909a47b65677cd791ab2cade3fa9c7.jpg'), ('타악기', 'https://akkishopping.com/web/product/medium/202109/c73aceeb7ca12de0a38e01a14b10edf1.jpg'), ('타악기', 'https://akkishopping.com/web/product/medium/202301/bc322fc3f194fc198e6c76c6d9277a30.jpg'), ('타악기', 'https://akkishopping.com/web/product/medium/201902/e5f55db122303477e80e675ae8e1088f.jpg'), ('타악기', 'https://akkishopping.com/web/product/medium/201902/89a11a1d584feaf6b1f886dc58330539.jpg'), ('타악기', 'https://akkishopping.com/web/product/medium/201902/7822b584f0accb0d5b9de1447909d602.jpg'), ('타악기', 'https://akkishopping.com/web/product/medium/akki4321_1063.jpg'), ('타악기', 'https://akkishopping.com/web/product/medium/akki4321_3817.jpg'), ('타악기', 'https://akkishopping.com/web/product/medium/akki4321_3816.jpg'), ('타악기', 'https://akkishopping.com/web/product/medium/akki4321_3561.jpg'), ('타악기', 'https://akkishopping.com/web/product/medium/akki4321_3560.jpg'), ('타악기', 'https://akkishopping.com/web/product/medium/akki4321_3559.jpg'), ('타악기', 'https://akkishopping.com/web/product/medium/akki4321_3291.jpg'), ('타악기', 'https://akkishopping.com/web/product/medium/akki4321_2787.jpg'), ('타악기', 'https://akkishopping.com/web/product/medium/akki4321_2786.jpg'), ('타악기', 'https://akkishopping.com/web/product/medium/akki4321_2785.jpg'), ('타악기', 'https://akkishopping.com/web/product/medium/akki4321_2784.jpg'), ('타악기', 'https://akkishopping.com/web/product/medium/akki4321_2783.jpg'), ('타악기', 'https://akkishopping.com/web/product/medium/akki4321_2782.jpg'), ('타악기', 'https://akkishopping.com/web/product/medium/akki4321_2781.jpg'), ('타악기', 'https://akkishopping.com/web/product/medium/akki4321_2780.jpg'), ('타악기', 'https://akkishopping.com/web/product/medium/akki4321_2779.jpg'), ('타악기', 'https://akkishopping.com/web/product/medium/akki4321_2778.jpg'), ('타악기', 'https://akkishopping.com/web/product/medium/akki4321_2777.jpg'), ('타악기', 'https://akkishopping.com/web/product/medium/akki4321_2770.jpg'), ('타악기', 'https://akkishopping.com/web/product/medium/akki4321_2769.jpg'), ('타악기', 'https://akkishopping.com/web/product/medium/akki4321_2768.jpg'), ('타악기', 'https://akkishopping.com/web/product/medium/akki4321_2767.jpg'), ('타악기', 'https://akkishopping.com/web/product/medium/akki4321_2766.jpg'), ('타악기', 'https://akkishopping.com/web/product/medium/akki4321_2765.jpg'), ('타악기', 'https://akkishopping.com/web/product/medium/akki4321_1395.jpg'), ('타악기', 'https://akkishopping.com/web/product/medium/akki4321_1394.jpg'), ('타악기', 'https://akkishopping.com/web/product/medium/akki4321_1393.jpg'), ('타악기', 'https://akkishopping.com/web/product/medium/akki4321_1392.jpg'), ('타악기', 'https://akkishopping.com/web/product/medium/akki4321_1391.jpg'), ('타악기', 'https://akkishopping.com/web/product/medium/akki4321_1390.jpg'), ('타악기', 'https://akkishopping.com/web/product/medium/akki4321_1256.jpg'), ('타악기', 'https://akkishopping.com/web/product/medium/akki4321_1123.jpg'), ('타악기', 'https://akkishopping.com/web/product/medium/akki4321_1122.jpg'), ('타악기', 'https://akkishopping.com/web/product/medium/akki4321_1121.jpg'), ('타악기', 'https://akkishopping.com/web/product/medium/akki4321_1062.jpg'), ('타악기', 'https://akkishopping.com/web/product/medium/202304/be8e5a00ca1a92e67657f6df7d49732c.jpg'), ('타악기', 'https://akkishopping.com/web/product/medium/202304/6bc564093b32ecd5dc67ed4bf4826ce5.jpg'), ('타악기', 'https://akkishopping.com/web/product/medium/202205/c4933b737b7c699c062b9ac47bb4a617.jpg'), ('타악기', 'https://akkishopping.com/web/product/medium/202107/9647f74089d76091dbd58c3204b70043.jpg'), ('타악기', 'https://akkishopping.com/web/product/medium/202107/c52afc95269617b501ea461b3a480f0b.jpg'), ('타악기', 'https://akkishopping.com/web/product/medium/201902/2f970582801acc554a8d1a5f5debea63.jpg'), ('타악기', 'https://akkishopping.com/web/product/medium/20191128/d61dbeb2a7c739ec8ad3b2d4136eb0da.jpg'), ('타악기', 'https://akkishopping.com/web/product/medium/20191128/00d2d4ccc4b72c863e18c65d4d5b2a2e.jpg'), ('타악기', 'https://akkishopping.com/web/product/medium/20191128/64abe9ae5e98ebc351af34c46eed9dc1.jpg'), ('타악기', 'https://akkishopping.com/web/product/medium/20191121/d3c378723cbaf1a2529533968232056a.jpg')]\n"
     ]
    }
   ],
   "source": [
    "search(141)"
   ]
  },
  {
   "cell_type": "code",
   "execution_count": 83,
   "id": "ced9888e",
   "metadata": {},
   "outputs": [
    {
     "name": "stdout",
     "output_type": "stream",
     "text": [
      "imgs: 60\n",
      "imgs: 58\n",
      "[('교육용악기', 'https://akkishopping.com/web/product/medium/akki4321_1421.jpg'), ('교육용악기', 'https://akkishopping.com/web/product/medium/202011/3183dfa8ee71d1b6b2032f72fc138481.jpg'), ('교육용악기', 'https://akkishopping.com/web/product/medium/202011/3a4163bf9c73687b3f60d76bff33f762.jpg'), ('교육용악기', 'https://akkishopping.com/web/product/medium/202012/9f750c36477d2e1df43917c1eda17976.jpg'), ('교육용악기', 'https://akkishopping.com/web/product/medium/202011/05e50138d688109c6035af1683a0a19b.jpg'), ('교육용악기', 'https://akkishopping.com/web/product/medium/202011/259670ad1ac3a5b5d73f4286979b5b16.jpg'), ('교육용악기', 'https://akkishopping.com/web/product/medium/202011/168658fe6cd79891facaf8d55f1217df.jpg'), ('교육용악기', 'https://akkishopping.com/web/product/medium/202011/59c30eecfde6c58b1e07bd6c0225e387.jpg'), ('교육용악기', 'https://akkishopping.com/web/product/medium/202011/b669239d301d2c854ec99bb059d66c88.jpg'), ('교육용악기', 'https://akkishopping.com/web/product/medium/202012/288602852fdc2c328e74dda69f9214fd.jpg'), ('교육용악기', 'https://akkishopping.com/web/product/medium/202012/3ccb76e71495cdba9ac24bbae6703f3a.jpg'), ('교육용악기', 'https://akkishopping.com/web/product/medium/202012/32a2c6c327bfe7dd365fef15a7e8bceb.jpg'), ('교육용악기', 'https://akkishopping.com/web/product/medium/202012/eb36c90516464b1ee39589cef7e40246.jpg'), ('교육용악기', 'https://akkishopping.com/web/product/medium/202012/d0da065377506744e9c2777013c1e2f5.jpg'), ('교육용악기', 'https://akkishopping.com/web/product/medium/202012/168c787e958b96e816715f0a2ce8d30d.jpg'), ('교육용악기', 'https://akkishopping.com/web/product/medium/202101/9893935bfc0dd11b6239d7cff78df6a3.jpg'), ('교육용악기', 'https://akkishopping.com/web/product/medium/202012/49c44b990c6f9d52080608adb6369952.jpg'), ('교육용악기', 'https://akkishopping.com/web/product/medium/202012/30f5d29e3dc66a07f6764db9f405fd38.jpg'), ('교육용악기', 'https://akkishopping.com/web/product/medium/202012/9f64ee15619fe5aa1a17ff1bdafe7960.jpg'), ('교육용악기', 'https://akkishopping.com/web/product/medium/202012/260e17114f13f12e6600ffaf9a41f3b1.jpg'), ('교육용악기', 'https://akkishopping.com/web/product/medium/202012/846d5af3334e3fb4b0940b5b9f43b527.jpg'), ('교육용악기', 'https://akkishopping.com/web/product/medium/202012/d36307207cc36985a03408cd59e2aa19.jpg'), ('교육용악기', 'https://akkishopping.com/web/product/medium/202012/d1adc0b3471c6ef6c1fa94694e2f23eb.jpg'), ('교육용악기', 'https://akkishopping.com/web/product/medium/202012/0217e250ced52a62d7396930387d496e.jpg'), ('교육용악기', 'https://akkishopping.com/web/product/medium/202012/98dc6310e26f7ddd3bfece75c4d64cd0.jpg'), ('교육용악기', 'https://akkishopping.com/web/product/medium/akki4321_3558.jpg'), ('교육용악기', 'https://akkishopping.com/web/product/medium/akki4321_3557.jpg'), ('교육용악기', 'https://akkishopping.com/web/product/medium/akki4321_3556.jpg'), ('교육용악기', 'https://akkishopping.com/web/product/medium/akki4321_3555.jpg'), ('교육용악기', 'https://akkishopping.com/web/product/medium/202011/d8a3d43c4e62b634c36d164638c4e408.jpg'), ('교육용악기', 'https://akkishopping.com/web/product/medium/202011/dec3495cc69623a4b4516a2b28a623d4.jpg'), ('교육용악기', 'https://akkishopping.com/web/product/medium/202011/a51ea5553ddbaf1595d39b68a11e6ab3.jpg'), ('교육용악기', 'https://akkishopping.com/web/product/medium/202012/8ad4df48406d6d3e4b589ce1d16b41b6.jpg'), ('교육용악기', 'https://akkishopping.com/web/product/medium/202012/3c7e71415126c6fa4af47f136378b340.jpg'), ('교육용악기', 'https://akkishopping.com/web/product/medium/202011/d9dcfcaccd9a0baea46ccdd113385821.jpg'), ('교육용악기', 'https://akkishopping.com/web/product/medium/202012/668e1a77013baac7732905acb34c477f.jpg'), ('교육용악기', 'https://akkishopping.com/web/product/medium/202011/b78b528d531b73036ec2b39d77276a32.jpg'), ('교육용악기', 'https://akkishopping.com/web/product/medium/202011/c0ecd3359434ac1d279343c4b71ad06e.jpg'), ('교육용악기', 'https://akkishopping.com/web/product/medium/202012/cec737095539a18e0c54bbfb6171411a.jpg'), ('교육용악기', 'https://akkishopping.com/web/product/medium/202012/fc13638193f72c6d71274927510fe27d.jpg'), ('교육용악기', 'https://akkishopping.com/web/product/medium/202012/c5c40189523ad13ae745567208b015c0.jpg'), ('교육용악기', 'https://akkishopping.com/web/product/medium/202012/ed3d20e32f3c1966f8258e3e84bcc94e.jpg'), ('교육용악기', 'https://akkishopping.com/web/product/medium/202012/2808d15f3d0eb7c9e3f92c772df56c04.jpg'), ('교육용악기', 'https://akkishopping.com/web/product/medium/202012/e6e9966dc4effa614de979782cdec69c.jpg'), ('교육용악기', 'https://akkishopping.com/web/product/medium/202012/94cc77808c1f0de5804f5c28321bc63f.jpg'), ('교육용악기', 'https://akkishopping.com/web/product/medium/202011/740c1de77dbbe88ca93298d6c647d3b8.jpg'), ('교육용악기', 'https://akkishopping.com/web/product/medium/202012/6432f5e505e36f509f24813ebd09cd3a.jpg'), ('교육용악기', 'https://akkishopping.com/web/product/medium/202012/fcd7376318b6a32b1b1c7b5efe2ee202.jpg'), ('교육용악기', 'https://akkishopping.com/web/product/medium/202012/edb51d214aa9611d9b2e78e79e435553.jpg'), ('교육용악기', 'https://akkishopping.com/web/product/medium/202011/ba5ef9e27d32374ed76cc38655a6adee.jpg'), ('교육용악기', 'https://akkishopping.com/web/product/medium/202011/b050bc30945544d05beafe2447b2f85e.jpg'), ('교육용악기', 'https://akkishopping.com/web/product/medium/202011/1fcec906fea2f11c4b053ca359da3724.jpg'), ('교육용악기', 'https://akkishopping.com/web/product/medium/202011/2a283945eaa0ea125244480f35d835b9.jpg'), ('교육용악기', 'https://akkishopping.com/web/product/medium/202011/243cddcbc8b93a288eb6e1829d9d29b3.jpg'), ('교육용악기', 'https://akkishopping.com/web/product/medium/202011/6c123d5627e5fc2557dc35b192331a6c.jpg'), ('교육용악기', 'https://akkishopping.com/web/product/medium/202011/d76bd52b593600d6ad318942dba8deeb.jpg'), ('교육용악기', 'https://akkishopping.com/web/product/medium/202011/1ca6f400f8e02741ddf3f6336c0878fb.jpg'), ('교육용악기', 'https://akkishopping.com/web/product/medium/202011/a5809b967f51c62dc9ceaf62287c3633.jpg'), ('교육용악기', 'https://akkishopping.com/web/product/medium/202011/86537e1f7bf05cbca62b3e9369c3398c.jpg'), ('교육용악기', 'https://akkishopping.com/web/product/medium/202011/b1baf582d9f037aece949b30284d2b42.jpg'), ('교육용악기', 'https://akkishopping.com/web/product/medium/202011/46ec03120e0a8ab371ac9eded7794557.jpg'), ('교육용악기', 'https://akkishopping.com/web/product/medium/202011/4dc52245f3f9a7e4e9c6f29de3c33052.jpg'), ('교육용악기', 'https://akkishopping.com/web/product/medium/202011/19d6c127a001cf0177a4d7dc388859c7.jpg'), ('교육용악기', 'https://akkishopping.com/web/product/medium/202011/698e847e17db7555d95ee5bfb14c1d0a.jpg'), ('교육용악기', 'https://akkishopping.com/web/product/medium/202011/0790e1a466e936b89d06b9429694c7b2.jpg'), ('교육용악기', 'https://akkishopping.com/web/product/medium/202011/502f75ee0b2bbc66d9ea07851af82826.jpg'), ('교육용악기', 'https://akkishopping.com/web/product/medium/202011/8ef22cbdf0c1bcf45abfc8f042244098.jpg'), ('교육용악기', 'https://akkishopping.com/web/product/medium/202011/df9815a6402dab0a2828068589a5414a.jpg'), ('교육용악기', 'https://akkishopping.com/web/product/medium/202011/ecdf5c60e9bf0d26510c57a1e4abf863.jpg'), ('교육용악기', 'https://akkishopping.com/web/product/medium/202011/ffde243aac4ef84b453c78789be4fefa.jpg'), ('교육용악기', 'https://akkishopping.com/web/product/medium/202011/233e535a529a6dfb19b0413c9959bd90.jpg'), ('교육용악기', 'https://akkishopping.com/web/product/medium/202011/6767e54245cf2e9eee9ccbf53d2b0666.jpg'), ('교육용악기', 'https://akkishopping.com/web/product/medium/202011/761c6891055b68081d53661957db7255.jpg'), ('교육용악기', 'https://akkishopping.com/web/product/medium/202011/f18437637a1693079c8a4db7a321d583.jpg'), ('교육용악기', 'https://akkishopping.com/web/product/medium/202011/d2298a6d6cbdab080d256bb3d62121d6.jpg'), ('교육용악기', 'https://akkishopping.com/web/product/medium/202011/0e1a464dbe49e0ce0ebb76e4a6f64b32.jpg'), ('교육용악기', 'https://akkishopping.com/web/product/medium/202011/923857b76c2820eb938e2dc84699d0d5.jpg'), ('교육용악기', 'https://akkishopping.com/web/product/medium/202011/e97a7bd6efb3c2e79fef039a48c82581.jpg'), ('교육용악기', 'https://akkishopping.com/web/product/medium/202012/afe074724b7668dfcf072b3b652c52ba.jpg'), ('교육용악기', 'https://akkishopping.com/web/product/medium/202012/e19f6d56d6fe3c288f4647f11fd4f364.jpg'), ('교육용악기', 'https://akkishopping.com/web/product/medium/202012/f285d62428fe75aab9a79996d3a06db8.jpg'), ('교육용악기', 'https://akkishopping.com/web/product/medium/202012/18c637e0a35bb412e80d6a8670127db1.jpg'), ('교육용악기', 'https://akkishopping.com/web/product/medium/202012/15074b409f12fadf5b533271c47f9f0e.jpg'), ('교육용악기', 'https://akkishopping.com/web/product/medium/202012/c3b74fcc68f799ab3f9242d5c36cfe23.jpg'), ('교육용악기', 'https://akkishopping.com/web/product/medium/202012/0ee691a4f16c63cf8708b1fb59454ad8.jpg'), ('교육용악기', 'https://akkishopping.com/web/product/medium/202012/26d3ccb52e14107020f781a63d2ad010.jpg'), ('교육용악기', 'https://akkishopping.com/web/product/medium/202012/8894c80c9b1fc7fef712398cd0c7c76b.jpg'), ('교육용악기', 'https://akkishopping.com/web/product/medium/202012/f08b869cf22056badb07713e799fbdff.jpg'), ('교육용악기', 'https://akkishopping.com/web/product/medium/202012/a0e4b0a318d6ca5e8f09e363fa0f5588.jpg'), ('교육용악기', 'https://akkishopping.com/web/product/medium/202012/00dd697c34082c63b2704bbc713046f4.jpg'), ('교육용악기', 'https://akkishopping.com/web/product/medium/202012/bf6dc38e5de10ac17c3a8dfbb995efa3.jpg'), ('교육용악기', 'https://akkishopping.com/web/product/medium/202012/6651feb3d887aef750f20729812faf42.jpg'), ('교육용악기', 'https://akkishopping.com/web/product/medium/202012/1e6da96529c07fdcd2d4b1f26108a536.jpg'), ('교육용악기', 'https://akkishopping.com/web/product/medium/202012/ed4633e57bd413a9350464487273b31e.jpg'), ('교육용악기', 'https://akkishopping.com/web/product/medium/202012/98f79fdeec9c757d69f64e2c2780663d.jpg'), ('교육용악기', 'https://akkishopping.com/web/product/medium/202012/558f4ce79b860bc952b816e627ca7460.jpg'), ('교육용악기', 'https://akkishopping.com/web/product/medium/202012/3fdbad79be882323c1dd44170f31d307.jpg'), ('교육용악기', 'https://akkishopping.com/web/product/medium/202012/527fade77c77da6da0b0e57216071d97.jpg'), ('교육용악기', 'https://akkishopping.com/web/product/medium/202012/751292259be9715bf00847973d62eee9.jpg'), ('교육용악기', 'https://akkishopping.com/web/product/medium/202012/2e362c60210b9452113585898d5f4ca4.jpg'), ('교육용악기', 'https://akkishopping.com/web/product/medium/202301/ed4e4865460c03e318c4fed7b17dad7b.jpg'), ('교육용악기', 'https://akkishopping.com/web/product/medium/202301/6cd10040c1ef79f0e39aa608d904112b.jpg'), ('교육용악기', 'https://akkishopping.com/web/product/medium/202301/eba2c6bba1ffc284fbebb25e110f8e79.jpg'), ('교육용악기', 'https://akkishopping.com/web/product/medium/202012/cba7af7847e7c82b71b96ba9f8babdaf.jpg'), ('교육용악기', 'https://akkishopping.com/web/product/medium/202012/10de95a3dec5d88f815f7da540c2b11b.jpg'), ('교육용악기', 'https://akkishopping.com/web/product/medium/202012/70875bf7f8ac568519ac5de75b01269b.jpg'), ('교육용악기', 'https://akkishopping.com/web/product/medium/202012/5569fd81b1b1604fc1e3ca19bf202ba0.jpg'), ('교육용악기', 'https://akkishopping.com/web/product/medium/202012/5cb0ab9c186c417bae41cb457660ba09.jpg'), ('교육용악기', 'https://akkishopping.com/web/product/medium/202012/1ca4317e6f972bf3f33750072937b681.jpg'), ('교육용악기', 'https://akkishopping.com/web/product/medium/202012/29e7168398b4d51fc2669e127ab45224.jpg'), ('교육용악기', 'https://akkishopping.com/web/product/medium/202012/7ec2850d6d9aff2a923156f063698af2.jpg'), ('교육용악기', 'https://akkishopping.com/web/product/medium/202012/b322eb6260bd6995d04fe5f4bbb7873e.jpg'), ('교육용악기', 'https://akkishopping.com/web/product/medium/202012/2ecf3a56bf728fd6c3931b309449af50.jpg'), ('교육용악기', 'https://akkishopping.com/web/product/medium/202012/1d9aeae5c88254c40f72ed66ecb48aaf.jpg'), ('교육용악기', 'https://akkishopping.com/web/product/medium/202301/089e7cd42b0ceab9409ce31599bb243d.jpg'), ('교육용악기', 'https://akkishopping.com/web/product/medium/202301/04bc9d75f2b3a237855a955df44e3db0.jpg'), ('교육용악기', 'https://akkishopping.com/web/product/medium/202301/9d7ad4bfc397a3a0fde89a03ac948f56.jpg'), ('교육용악기', 'https://akkishopping.com/web/product/medium/202109/6580d3b1b95000c9fbe745bd94fb44d3.jpg')]\n"
     ]
    }
   ],
   "source": [
    "search(143)"
   ]
  },
  {
   "cell_type": "code",
   "execution_count": null,
   "id": "95fed5b9",
   "metadata": {},
   "outputs": [],
   "source": []
  },
  {
   "cell_type": "code",
   "execution_count": null,
   "id": "3283ee58",
   "metadata": {},
   "outputs": [],
   "source": []
  },
  {
   "cell_type": "code",
   "execution_count": null,
   "id": "69083464",
   "metadata": {},
   "outputs": [],
   "source": []
  },
  {
   "cell_type": "code",
   "execution_count": null,
   "id": "d585461f",
   "metadata": {},
   "outputs": [],
   "source": []
  },
  {
   "cell_type": "code",
   "execution_count": null,
   "id": "d98a1b8a",
   "metadata": {},
   "outputs": [],
   "source": []
  }
 ],
 "metadata": {
  "kernelspec": {
   "display_name": "Python 3 (ipykernel)",
   "language": "python",
   "name": "python3"
  },
  "language_info": {
   "codemirror_mode": {
    "name": "ipython",
    "version": 3
   },
   "file_extension": ".py",
   "mimetype": "text/x-python",
   "name": "python",
   "nbconvert_exporter": "python",
   "pygments_lexer": "ipython3",
   "version": "3.11.1"
  }
 },
 "nbformat": 4,
 "nbformat_minor": 5
}
